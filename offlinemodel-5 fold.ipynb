{
 "cells": [
  {
   "cell_type": "code",
   "execution_count": 1,
   "metadata": {},
   "outputs": [],
   "source": [
    "import findspark\n",
    "findspark.init()\n",
    "from pyspark.sql import SparkSession\n",
    "spark = SparkSession.builder.master(\"local[*]\").getOrCreate()"
   ]
  },
  {
   "cell_type": "code",
   "execution_count": 2,
   "metadata": {},
   "outputs": [
    {
     "name": "stdout",
     "output_type": "stream",
     "text": [
      "root\n",
      " |-- AGE: integer (nullable = true)\n",
      " |-- SEX: integer (nullable = true)\n",
      " |-- CPT: integer (nullable = true)\n",
      " |-- RBP: integer (nullable = true)\n",
      " |-- SCH: integer (nullable = true)\n",
      " |-- FBS: integer (nullable = true)\n",
      " |-- RES: integer (nullable = true)\n",
      " |-- MHR: integer (nullable = true)\n",
      " |-- EIA: integer (nullable = true)\n",
      " |-- OPK: double (nullable = true)\n",
      " |-- PES: integer (nullable = true)\n",
      " |-- VCA: integer (nullable = true)\n",
      " |-- THA: integer (nullable = true)\n",
      " |-- target: integer (nullable = true)\n",
      "\n"
     ]
    }
   ],
   "source": [
    "heartds=spark.read.csv('C:\\heart.csv',header=True,inferSchema=True)\n",
    "heartds.dropna()\n",
    "heartds.printSchema()"
   ]
  },
  {
   "cell_type": "code",
   "execution_count": 3,
   "metadata": {},
   "outputs": [
    {
     "name": "stdout",
     "output_type": "stream",
     "text": [
      "+------------------------------------------------------------+\n",
      "|features                                                    |\n",
      "+------------------------------------------------------------+\n",
      "|[63.0,1.0,3.0,145.0,233.0,1.0,0.0,150.0,0.0,2.3,0.0,0.0,1.0]|\n",
      "|[37.0,1.0,2.0,130.0,250.0,0.0,1.0,187.0,0.0,3.5,0.0,0.0,2.0]|\n",
      "|[41.0,0.0,1.0,130.0,204.0,0.0,0.0,172.0,0.0,1.4,2.0,0.0,2.0]|\n",
      "|[56.0,1.0,1.0,120.0,236.0,0.0,1.0,178.0,0.0,0.8,2.0,0.0,2.0]|\n",
      "|[57.0,0.0,0.0,120.0,354.0,0.0,1.0,163.0,1.0,0.6,2.0,0.0,2.0]|\n",
      "|[57.0,1.0,0.0,140.0,192.0,0.0,1.0,148.0,0.0,0.4,1.0,0.0,1.0]|\n",
      "|[56.0,0.0,1.0,140.0,294.0,0.0,0.0,153.0,0.0,1.3,1.0,0.0,2.0]|\n",
      "|[44.0,1.0,1.0,120.0,263.0,0.0,1.0,173.0,0.0,0.0,2.0,0.0,3.0]|\n",
      "|[52.0,1.0,2.0,172.0,199.0,1.0,1.0,162.0,0.0,0.5,2.0,0.0,3.0]|\n",
      "|[57.0,1.0,2.0,150.0,168.0,0.0,1.0,174.0,0.0,1.6,2.0,0.0,2.0]|\n",
      "|[54.0,1.0,0.0,140.0,239.0,0.0,1.0,160.0,0.0,1.2,2.0,0.0,2.0]|\n",
      "|[48.0,0.0,2.0,130.0,275.0,0.0,1.0,139.0,0.0,0.2,2.0,0.0,2.0]|\n",
      "|[49.0,1.0,1.0,130.0,266.0,0.0,1.0,171.0,0.0,0.6,2.0,0.0,2.0]|\n",
      "|[64.0,1.0,3.0,110.0,211.0,0.0,0.0,144.0,1.0,1.8,1.0,0.0,2.0]|\n",
      "|[58.0,0.0,3.0,150.0,283.0,1.0,0.0,162.0,0.0,1.0,2.0,0.0,2.0]|\n",
      "|[50.0,0.0,2.0,120.0,219.0,0.0,1.0,158.0,0.0,1.6,1.0,0.0,2.0]|\n",
      "|[58.0,0.0,2.0,120.0,340.0,0.0,1.0,172.0,0.0,0.0,2.0,0.0,2.0]|\n",
      "|[66.0,0.0,3.0,150.0,226.0,0.0,1.0,114.0,0.0,2.6,0.0,0.0,2.0]|\n",
      "|[43.0,1.0,0.0,150.0,247.0,0.0,1.0,171.0,0.0,1.5,2.0,0.0,2.0]|\n",
      "|[69.0,0.0,3.0,140.0,239.0,0.0,1.0,151.0,0.0,1.8,2.0,2.0,2.0]|\n",
      "+------------------------------------------------------------+\n",
      "only showing top 20 rows\n",
      "\n"
     ]
    }
   ],
   "source": [
    "# !pip install numpy\n",
    "from pyspark.ml.feature import VectorAssembler\n",
    "cols=heartds.columns\n",
    "cols.remove('target')\n",
    "assembler=VectorAssembler(inputCols=cols,outputCol='features')\n",
    "heartds=assembler.transform(heartds)\n",
    "heartds.select('features').show(truncate=False)"
   ]
  },
  {
   "cell_type": "code",
   "execution_count": 4,
   "metadata": {},
   "outputs": [
    {
     "name": "stdout",
     "output_type": "stream",
     "text": [
      "Features scaled to range: [0.000000, 1.000000]\n",
      "+--------------------+------+\n",
      "|      scaledfeatures|target|\n",
      "+--------------------+------+\n",
      "|[0.70833333333333...|     1|\n",
      "|[0.16666666666666...|     1|\n",
      "|[0.25,0.0,0.33333...|     1|\n",
      "|[0.5625,1.0,0.333...|     1|\n",
      "|[0.58333333333333...|     1|\n",
      "|[0.58333333333333...|     1|\n",
      "|[0.5625,0.0,0.333...|     1|\n",
      "|[0.3125,1.0,0.333...|     1|\n",
      "|[0.47916666666666...|     1|\n",
      "|[0.58333333333333...|     1|\n",
      "|[0.52083333333333...|     1|\n",
      "|[0.39583333333333...|     1|\n",
      "|[0.41666666666666...|     1|\n",
      "|[0.72916666666666...|     1|\n",
      "|[0.60416666666666...|     1|\n",
      "|[0.4375,0.0,0.666...|     1|\n",
      "|[0.60416666666666...|     1|\n",
      "|[0.77083333333333...|     1|\n",
      "|[0.29166666666666...|     1|\n",
      "|[0.83333333333333...|     1|\n",
      "+--------------------+------+\n",
      "only showing top 20 rows\n",
      "\n"
     ]
    }
   ],
   "source": [
    "from pyspark.ml.feature import MinMaxScaler\n",
    "scaler=MinMaxScaler(inputCol='features',outputCol='scaledfeatures')\n",
    "scalermodel=scaler.fit(heartds)\n",
    "heartds=scalermodel.transform(heartds)\n",
    "print(\"Features scaled to range: [%f, %f]\" % (scaler.getMin(), scaler.getMax()))\n",
    "heartds.select(\"scaledfeatures\",'target').show()"
   ]
  },
  {
   "cell_type": "code",
   "execution_count": 5,
   "metadata": {},
   "outputs": [],
   "source": [
    "train,test=heartds.randomSplit([0.9,0.1])"
   ]
  },
  {
   "cell_type": "code",
   "execution_count": 6,
   "metadata": {},
   "outputs": [],
   "source": [
    "from pyspark.sql.types import DoubleType\n",
    "train=train.withColumn('target',train['target'].cast(DoubleType()))\n",
    "test=test.withColumn('target',test['target'].cast(DoubleType()))"
   ]
  },
  {
   "cell_type": "code",
   "execution_count": 7,
   "metadata": {},
   "outputs": [],
   "source": [
    "def accuracy(pred):\n",
    "  pred.groupBy('target','prediction').count().show()\n",
    "  tn=pred.filter('prediction=0 AND target=prediction').count()\n",
    "  tp=pred.filter('prediction=1 AND target=prediction').count()\n",
    "  fn=pred.filter('prediction=0 AND target<>prediction').count()\n",
    "  fp=pred.filter('prediction=1 AND target<>prediction').count()\n",
    "  acc=((tn+tp)/(tn+tp+fn+fp))*100\n",
    "  print('Accuracy=%0.2f'%acc)"
   ]
  },
  {
   "cell_type": "code",
   "execution_count": 8,
   "metadata": {},
   "outputs": [
    {
     "name": "stdout",
     "output_type": "stream",
     "text": [
      "+------+----------+-----+\n",
      "|target|prediction|count|\n",
      "+------+----------+-----+\n",
      "|   1.0|       1.0|   16|\n",
      "|   0.0|       1.0|    5|\n",
      "|   1.0|       0.0|    7|\n",
      "|   0.0|       0.0|   13|\n",
      "+------+----------+-----+\n",
      "\n",
      "Accuracy=70.73\n",
      "maxdepth: 5\n",
      "maxBins: 32\n",
      "numTrees: 20\n"
     ]
    }
   ],
   "source": [
    "from pyspark.ml.classification import RandomForestClassifier\n",
    "rf=RandomForestClassifier(labelCol='target',featuresCol='scaledfeatures')\n",
    "rfmodel=rf.fit(train)\n",
    "rfpredict_train=rfmodel.transform(train)\n",
    "rfpredict_test=rfmodel.transform(test)\n",
    "accuracy(rfpredict_test)\n",
    "print('maxdepth:',rfmodel.getOrDefault('maxDepth'))\n",
    "print('maxBins:',rfmodel.getOrDefault('maxBins'))\n",
    "print('numTrees:',rfmodel.getOrDefault('numTrees'))"
   ]
  },
  {
   "cell_type": "code",
   "execution_count": 9,
   "metadata": {},
   "outputs": [
    {
     "name": "stdout",
     "output_type": "stream",
     "text": [
      "+------+----------+-----+\n",
      "|target|prediction|count|\n",
      "+------+----------+-----+\n",
      "|   1.0|       1.0|   19|\n",
      "|   0.0|       1.0|    4|\n",
      "|   1.0|       0.0|    4|\n",
      "|   0.0|       0.0|   14|\n",
      "+------+----------+-----+\n",
      "\n",
      "Accuracy=80.49\n",
      "Best maxdepth: 5\n",
      "Best maxBins: 10\n",
      "best numTrees: 45\n"
     ]
    }
   ],
   "source": [
    "from pyspark.ml.evaluation import BinaryClassificationEvaluator\n",
    "from pyspark.ml.tuning import ParamGridBuilder,CrossValidator\n",
    "evaluator=BinaryClassificationEvaluator(rawPredictionCol='rawPrediction',labelCol='target')\n",
    "paramgrid=ParamGridBuilder().addGrid(rf.maxDepth,[2,3,4,5]).addGrid(rf.maxBins,[10,15,20,30,35,40]).addGrid(rf.numTrees,[20,30,40,45]).build()\n",
    "cv=CrossValidator(estimator=rf,estimatorParamMaps=paramgrid,evaluator=evaluator,numFolds=5)\n",
    "cvmodel=cv.fit(train)\n",
    "rfpredict_train=cvmodel.transform(train)\n",
    "rfpredict_test=cvmodel.transform(test)\n",
    "bestrfmodel=cvmodel.bestModel\n",
    "accuracy(rfpredict_test)\n",
    "print('Best maxdepth:',bestrfmodel.getOrDefault('maxDepth'))\n",
    "print('Best maxBins:',bestrfmodel.getOrDefault('maxBins'))\n",
    "print('best numTrees:',bestrfmodel.getOrDefault('numTrees'))"
   ]
  },
  {
   "cell_type": "code",
   "execution_count": 10,
   "metadata": {},
   "outputs": [
    {
     "name": "stdout",
     "output_type": "stream",
     "text": [
      "+------+----------+-----+\n",
      "|target|prediction|count|\n",
      "+------+----------+-----+\n",
      "|   1.0|       1.0|   18|\n",
      "|   0.0|       1.0|    4|\n",
      "|   1.0|       0.0|    5|\n",
      "|   0.0|       0.0|   14|\n",
      "+------+----------+-----+\n",
      "\n",
      "Accuracy=78.05\n",
      "regParam: 0.0\n",
      "maxIter: 100\n"
     ]
    }
   ],
   "source": [
    "from pyspark.ml.classification import LogisticRegression\n",
    "lr=LogisticRegression(labelCol='target',featuresCol='scaledfeatures')\n",
    "lrmodel=lr.fit(train)\n",
    "lrpredict_train=lrmodel.transform(train)\n",
    "lrpredict_test=lrmodel.transform(test)\n",
    "accuracy(lrpredict_test)\n",
    "print('regParam:',lrmodel.getOrDefault('regParam'))\n",
    "print('maxIter:',lrmodel.getOrDefault('maxIter'))"
   ]
  },
  {
   "cell_type": "code",
   "execution_count": 11,
   "metadata": {},
   "outputs": [
    {
     "name": "stdout",
     "output_type": "stream",
     "text": [
      "+------+----------+-----+\n",
      "|target|prediction|count|\n",
      "+------+----------+-----+\n",
      "|   1.0|       1.0|   20|\n",
      "|   0.0|       1.0|    5|\n",
      "|   1.0|       0.0|    3|\n",
      "|   0.0|       0.0|   13|\n",
      "+------+----------+-----+\n",
      "\n",
      "Accuracy=80.49\n",
      "regParam: 0.5\n",
      "maxIter: 30\n"
     ]
    }
   ],
   "source": [
    "evaluator=BinaryClassificationEvaluator(rawPredictionCol='rawPrediction',labelCol='target')\n",
    "paramgrid=ParamGridBuilder().addGrid(lr.regParam,[0.1,0.01,0.2,0.3,0.4,0.5]).addGrid(lr.maxIter,[0,10,30,40,50,75,100]).build()\n",
    "cv=CrossValidator(estimator=lr,estimatorParamMaps=paramgrid,evaluator=evaluator,numFolds=5)\n",
    "cvmodel=cv.fit(train)\n",
    "lrpredict_train=cvmodel.transform(train)\n",
    "lrpredict_test=cvmodel.transform(test)\n",
    "bestlrmodel=cvmodel.bestModel\n",
    "accuracy(lrpredict_test)\n",
    "print('regParam:',bestlrmodel.getOrDefault('regParam'))\n",
    "print('maxIter:',bestlrmodel.getOrDefault('maxIter'))"
   ]
  },
  {
   "cell_type": "code",
   "execution_count": 12,
   "metadata": {},
   "outputs": [
    {
     "name": "stdout",
     "output_type": "stream",
     "text": [
      "+------+----------+-----+\n",
      "|target|prediction|count|\n",
      "+------+----------+-----+\n",
      "|   1.0|       1.0|   18|\n",
      "|   0.0|       1.0|    5|\n",
      "|   1.0|       0.0|    5|\n",
      "|   0.0|       0.0|   13|\n",
      "+------+----------+-----+\n",
      "\n",
      "Accuracy=75.61\n",
      "maxdepth: 5\n",
      "maxBins: 32\n",
      "impurity: gini\n"
     ]
    }
   ],
   "source": [
    "from pyspark.ml.classification import DecisionTreeClassifier\n",
    "dt=DecisionTreeClassifier(labelCol='target',featuresCol='scaledfeatures')\n",
    "dtmodel=dt.fit(train)\n",
    "dtpredict_train=dtmodel.transform(train)\n",
    "dtpredict_test=dtmodel.transform(test)\n",
    "accuracy(dtpredict_test)\n",
    "print('maxdepth:',dtmodel.getOrDefault('maxDepth'))\n",
    "print('maxBins:',dtmodel.getOrDefault('maxBins'))\n",
    "print('impurity:',dtmodel.getOrDefault('impurity'))"
   ]
  },
  {
   "cell_type": "code",
   "execution_count": 13,
   "metadata": {
    "scrolled": true
   },
   "outputs": [
    {
     "name": "stdout",
     "output_type": "stream",
     "text": [
      "+------+----------+-----+\n",
      "|target|prediction|count|\n",
      "+------+----------+-----+\n",
      "|   1.0|       1.0|   18|\n",
      "|   0.0|       1.0|    5|\n",
      "|   1.0|       0.0|    5|\n",
      "|   0.0|       0.0|   13|\n",
      "+------+----------+-----+\n",
      "\n",
      "Accuracy=75.61\n",
      "maxdepth: 4\n",
      "maxBins: 10\n",
      "impurity: gini\n"
     ]
    }
   ],
   "source": [
    "evaluator=BinaryClassificationEvaluator(rawPredictionCol='rawPrediction',labelCol='target')\n",
    "paramgrid=ParamGridBuilder().addGrid(dt.maxDepth,[2,3,4,5]).addGrid(dt.impurity,['entropy','gini']).addGrid(dt.maxBins,[10,15,20,30,35,40]).build()\n",
    "cv=CrossValidator(estimator=dt,estimatorParamMaps=paramgrid,evaluator=evaluator,numFolds=5)\n",
    "cvmodel=cv.fit(train)\n",
    "dtpredict_train=cvmodel.transform(train)\n",
    "dtpredict_test=cvmodel.transform(test)\n",
    "bestdtmodel=cvmodel.bestModel\n",
    "accuracy(dtpredict_test)\n",
    "print('maxdepth:',bestdtmodel.getOrDefault('maxDepth'))\n",
    "print('maxBins:',bestdtmodel.getOrDefault('maxBins'))\n",
    "print('impurity:',bestdtmodel.getOrDefault('impurity'))"
   ]
  },
  {
   "cell_type": "code",
   "execution_count": 14,
   "metadata": {},
   "outputs": [
    {
     "name": "stdout",
     "output_type": "stream",
     "text": [
      "+------+----------+-----+\n",
      "|target|prediction|count|\n",
      "+------+----------+-----+\n",
      "|   1.0|       1.0|   19|\n",
      "|   0.0|       1.0|    5|\n",
      "|   1.0|       0.0|    4|\n",
      "|   0.0|       0.0|   13|\n",
      "+------+----------+-----+\n",
      "\n",
      "Accuracy=78.05\n",
      "regParam: 0.0\n",
      "maxIter: 100\n"
     ]
    }
   ],
   "source": [
    "from pyspark.ml.classification import LinearSVC\n",
    "sv=LinearSVC(labelCol='target',featuresCol='scaledfeatures')\n",
    "svmodel=sv.fit(train)\n",
    "svpredict_train=svmodel.transform(train)\n",
    "svpredict_test=svmodel.transform(test)\n",
    "accuracy(svpredict_test)\n",
    "print('regParam:',svmodel.getOrDefault('regParam'))\n",
    "print('maxIter:',svmodel.getOrDefault('maxIter'))"
   ]
  },
  {
   "cell_type": "code",
   "execution_count": 15,
   "metadata": {},
   "outputs": [
    {
     "name": "stdout",
     "output_type": "stream",
     "text": [
      "+------+----------+-----+\n",
      "|target|prediction|count|\n",
      "+------+----------+-----+\n",
      "|   1.0|       1.0|   19|\n",
      "|   0.0|       1.0|    5|\n",
      "|   1.0|       0.0|    4|\n",
      "|   0.0|       0.0|   13|\n",
      "+------+----------+-----+\n",
      "\n",
      "Accuracy=78.05\n",
      "regParam: 0.1\n",
      "maxIter: 10\n"
     ]
    }
   ],
   "source": [
    "evaluator=BinaryClassificationEvaluator(rawPredictionCol='rawPrediction',labelCol='target')\n",
    "paramgrid=ParamGridBuilder().addGrid(sv.regParam,[0.01,0.02,0.03,0.1,0.2,0.3]).addGrid(sv.maxIter,[10,20,25,30,35,40,45,50]).build()\n",
    "cv=CrossValidator(estimator=sv,estimatorParamMaps=paramgrid,evaluator=evaluator,numFolds=5)\n",
    "cvmodel=cv.fit(train)\n",
    "svpredict_train=cvmodel.transform(train)\n",
    "svpredict_test=cvmodel.transform(test)\n",
    "bestsvmodel=cvmodel.bestModel\n",
    "accuracy(svpredict_test)\n",
    "print('regParam:',bestsvmodel.getOrDefault('regParam'))\n",
    "print('maxIter:',bestsvmodel.getOrDefault('maxIter'))"
   ]
  },
  {
   "cell_type": "code",
   "execution_count": 16,
   "metadata": {},
   "outputs": [],
   "source": [
    "ffaccuracy=[78.05,75.61,70.73,78.05]\n",
    "hyperffaccuracy=[80.49,75.61,80.49,78.05]\n",
    "model=['lr','dt','rf','svm']\n",
    "def graph(ax,model,acc):\n",
    "  sns.set_style(\"dark\")\n",
    "  plt.xlabel('CLASSIFIERS')\n",
    "  plt.ylabel('ACCURACY(%)')\n",
    "  total=len(model)\n",
    "  for i,j in enumerate(ax.patches):\n",
    "    percentage= '{:.2f}%'.format(acc[i])\n",
    "    x=j.get_x()+j.get_width()/2-0.25\n",
    "    y=j.get_y()+j.get_height()+0.45\n",
    "    ax.annotate(percentage,(x,y),size=12)\n",
    "  plt.show()"
   ]
  },
  {
   "cell_type": "code",
   "execution_count": 17,
   "metadata": {},
   "outputs": [
    {
     "data": {
      "image/png": "[encoded data removed]",
      "text/plain": [
       "<Figure size 360x360 with 1 Axes>"
      ]
     },
     "metadata": {
      "needs_background": "light"
     },
     "output_type": "display_data"
    }
   ],
   "source": [
    "# !pip install matplotlib\n",
    "# !pip install seaborn\n",
    "import matplotlib.pyplot as plt\n",
    "import seaborn as sns\n",
    "plt.subplots(figsize=(5,5))\n",
    "clrs=['blue' if x<max(ffaccuracy) else 'black' for x in ffaccuracy]\n",
    "ax=sns.barplot(x=model,y=ffaccuracy,palette=clrs)\n",
    "plt.title('FULL FEATURES ACCURACY COMPARISION BEFORE TUNING')\n",
    "plt.xlabel('CLASSIFIERS')\n",
    "plt.ylabel('ACCURACY(%)')\n",
    "graph(ax,model,ffaccuracy)"
   ]
  },
  {
   "cell_type": "code",
   "execution_count": 18,
   "metadata": {},
   "outputs": [
    {
     "data": {
      "image/png": "[encoded data removed]",
      "text/plain": [
       "<Figure size 360x360 with 1 Axes>"
      ]
     },
     "metadata": {},
     "output_type": "display_data"
    }
   ],
   "source": [
    "import matplotlib.pyplot as plt\n",
    "import seaborn as sns\n",
    "plt.subplots(figsize=(5,5))\n",
    "clrs=['blue' if x<max(hyperffaccuracy) else 'black' for x in hyperffaccuracy]\n",
    "ax=sns.barplot(x=model,y=hyperffaccuracy,palette=clrs)\n",
    "plt.title('FULL FEATURES ACCURACY COMPARISION AFTER TUNING')\n",
    "plt.xlabel('CLASSIFIERS')\n",
    "plt.ylabel('ACCURACY(%)')\n",
    "graph(ax,model,hyperffaccuracy)"
   ]
  },
  {
   "cell_type": "markdown",
   "metadata": {},
   "source": []
  },
  {
   "cell_type": "code",
   "execution_count": null,
   "metadata": {},
   "outputs": [],
   "source": [
    "# uf=['AGE', 'CPT', 'SCH', 'MHR', 'EIA', 'OPK', 'VCA']\n",
    "# rf=['THA', 'VCA', 'EIA', 'CPT', 'PES', 'OPK', 'MHR']\n",
    "# assembler=VectorAssembler(inputCols=uf,outputCol='unifeatures')\n",
    "# heartds=assembler.transform(heartds)\n",
    "# assembler=VectorAssembler(inputCols=rf,outputCol='relieffeatures')\n",
    "# heartds=assembler.transform(heartds)\n",
    "# heartds.select('unifeatures','relieffeatures').show(3)"
   ]
  },
  {
   "cell_type": "code",
   "execution_count": null,
   "metadata": {},
   "outputs": [],
   "source": [
    "# scaler=MinMaxScaler(inputCol='unifeatures',outputCol='scaledunifeatures')\n",
    "# scalermodel=scaler.fit(heartds)\n",
    "# heartds=scalermodel.transform(heartds)\n",
    "# heartds.select(\"scaledunifeatures\",'target').show(3)"
   ]
  },
  {
   "cell_type": "code",
   "execution_count": null,
   "metadata": {},
   "outputs": [],
   "source": [
    "# scaler=MinMaxScaler(inputCol='relieffeatures',outputCol='scaledrelieffeatures')\n",
    "# scalermodel=scaler.fit(heartds)\n",
    "# heartds=scalermodel.transform(heartds)\n",
    "# heartds.select(\"scaledrelieffeatures\",'target').show(3)"
   ]
  },
  {
   "cell_type": "code",
   "execution_count": null,
   "metadata": {},
   "outputs": [],
   "source": [
    "# lr=LogisticRegression(labelCol='target',featuresCol='scaledunifeatures')\n",
    "# lrmodel=lr.fit(train)\n",
    "# lrpredict_train=lrmodel.transform(train)\n",
    "# lrpredict_test=lrmodel.transform(test)\n",
    "# accuracy(lrpredict_test)\n",
    "# print('regParam:',lrmodel.getOrDefault('regParam'))\n",
    "# print('maxIter:',lrmodel.getOrDefault('maxIter'))"
   ]
  },
  {
   "cell_type": "code",
   "execution_count": null,
   "metadata": {},
   "outputs": [],
   "source": [
    "# evaluator=BinaryClassificationEvaluator(rawPredictionCol='rawPrediction',labelCol='target')\n",
    "# paramgrid=ParamGridBuilder().addGrid(lr.regParam,[0.1,0.01,0.2,0.3,0.4,0.5]).addGrid(lr.maxIter,[0,10,30,40,50,75,100]).build()\n",
    "# cv=CrossValidator(estimator=lr,estimatorParamMaps=paramgrid,evaluator=evaluator,numFolds=10)\n",
    "# cvmodel=cv.fit(train)\n",
    "# lrpredict_train=cvmodel.transform(train)\n",
    "# lrpredict_test=cvmodel.transform(test)\n",
    "# bestlrmodel=cvmodel.bestModel\n",
    "# accuracy(lrpredict_test)\n",
    "# print('regParam:',bestlrmodel.getOrDefault('regParam'))\n",
    "# print('maxIter:',bestlrmodel.getOrDefault('maxIter'))"
   ]
  },
  {
   "cell_type": "code",
   "execution_count": null,
   "metadata": {},
   "outputs": [],
   "source": [
    "# dt=DecisionTreeClassifier(labelCol='target',featuresCol='scaledunifeatures')\n",
    "# dtmodel=dt.fit(train)\n",
    "# dtpredict_train=dtmodel.transform(train)\n",
    "# dtpredict_test=dtmodel.transform(test)\n",
    "# accuracy(dtpredict_test)\n",
    "# print('maxdepth:',dtmodel.getOrDefault('maxDepth'))\n",
    "# print('maxBins:',dtmodel.getOrDefault('maxBins'))\n",
    "# print('impurity:',dtmodel.getOrDefault('impurity'))"
   ]
  },
  {
   "cell_type": "code",
   "execution_count": null,
   "metadata": {},
   "outputs": [],
   "source": [
    "# evaluator=BinaryClassificationEvaluator(rawPredictionCol='rawPrediction',labelCol='target')\n",
    "# paramgrid=ParamGridBuilder().addGrid(dt.maxDepth,[2,3,4,5]).addGrid(dt.impurity,['entropy','gini']).addGrid(dt.maxBins,[10,15,20,30,35,40]).build()\n",
    "# cv=CrossValidator(estimator=dt,estimatorParamMaps=paramgrid,evaluator=evaluator,numFolds=10)\n",
    "# cvmodel=cv.fit(train)\n",
    "# dtpredict_train=cvmodel.transform(train)\n",
    "# dtpredict_test=cvmodel.transform(test)\n",
    "# bestdtmodel=cvmodel.bestModel\n",
    "# accuracy(dtpredict_test)\n",
    "# print('maxdepth:',bestdtmodel.getOrDefault('maxDepth'))\n",
    "# print('maxBins:',bestdtmodel.getOrDefault('maxBins'))\n",
    "# print('impurity:',bestdtmodel.getOrDefault('impurity'))"
   ]
  },
  {
   "cell_type": "code",
   "execution_count": null,
   "metadata": {},
   "outputs": [],
   "source": [
    "# rf=RandomForestClassifier(labelCol='target',featuresCol='scaledunifeatures')\n",
    "# rfmodel=rf.fit(train)\n",
    "# rfpredict_train=rfmodel.transform(train)\n",
    "# rfpredict_test=rfmodel.transform(test)\n",
    "# accuracy(rfpredict_test)\n",
    "# print('maxdepth:',rfmodel.getOrDefault('maxDepth'))\n",
    "# print('maxBins:',rfmodel.getOrDefault('maxBins'))\n",
    "# print('numTrees:',rfmodel.getOrDefault('numTrees'))"
   ]
  },
  {
   "cell_type": "code",
   "execution_count": null,
   "metadata": {
    "scrolled": true
   },
   "outputs": [],
   "source": [
    "# evaluator=BinaryClassificationEvaluator(rawPredictionCol='rawPrediction',labelCol='target')\n",
    "# paramgrid=ParamGridBuilder().addGrid(rf.maxDepth,[2,3,4,5]).addGrid(rf.maxBins,[10,15,20,30,35,40]).addGrid(rf.numTrees,[20,30,35,40]).addGrid(rf.impurity,['entropy','gini']).build()\n",
    "# cv=CrossValidator(estimator=rf,estimatorParamMaps=paramgrid,evaluator=evaluator,numFolds=10)\n",
    "# cvmodel=cv.fit(train)\n",
    "# rfpredict_train=cvmodel.transform(train)\n",
    "# rfpredict_test=cvmodel.transform(test)\n",
    "# bestrfmodel=cvmodel.bestModel\n",
    "# accuracy(rfpredict_test)\n",
    "# print('Best maxdepth:',bestrfmodel.getOrDefault('maxDepth'))\n",
    "# print('Best maxBins:',bestrfmodel.getOrDefault('maxBins'))\n",
    "# print('best numTrees:',bestrfmodel.getOrDefault('numTrees'))"
   ]
  },
  {
   "cell_type": "code",
   "execution_count": null,
   "metadata": {},
   "outputs": [],
   "source": [
    "# sv=LinearSVC(labelCol='target',featuresCol='scaledunifeatures')\n",
    "# svmodel=sv.fit(train)\n",
    "# svpredict_train=svmodel.transform(train)\n",
    "# svpredict_test=svmodel.transform(test)\n",
    "# accuracy(svpredict_test)\n",
    "# print('regParam:',svmodel.getOrDefault('regParam'))\n",
    "# print('maxIter:',svmodel.getOrDefault('maxIter'))"
   ]
  },
  {
   "cell_type": "code",
   "execution_count": null,
   "metadata": {},
   "outputs": [],
   "source": [
    "# evaluator=BinaryClassificationEvaluator(rawPredictionCol='rawPrediction',labelCol='target')\n",
    "# paramgrid=ParamGridBuilder().addGrid(sv.regParam,[0.01,0.02,0.03,0.1,0.2,0.3]).addGrid(sv.maxIter,[10,20,25,30,35,40,45,50]).build()\n",
    "# cv=CrossValidator(estimator=sv,estimatorParamMaps=paramgrid,evaluator=evaluator,numFolds=10)\n",
    "# cvmodel=cv.fit(train)\n",
    "# svpredict_train=cvmodel.transform(train)\n",
    "# svpredict_test=cvmodel.transform(test)\n",
    "# bestsvmodel=cvmodel.bestModel\n",
    "# accuracy(svpredict_test)\n",
    "# print('regParam:',bestsvmodel.getOrDefault('regParam'))\n",
    "# print('maxIter:',bestsvmodel.getOrDefault('maxIter'))"
   ]
  },
  {
   "cell_type": "markdown",
   "metadata": {},
   "source": []
  },
  {
   "cell_type": "code",
   "execution_count": null,
   "metadata": {},
   "outputs": [],
   "source": [
    "# lr=LogisticRegression(labelCol='target',featuresCol='scaledrelieffeatures')\n",
    "# lrmodel=lr.fit(train)\n",
    "# lrpredict_train=lrmodel.transform(train)\n",
    "# lrpredict_test=lrmodel.transform(test)\n",
    "# accuracy(lrpredict_test)\n",
    "# print('regParam:',lrmodel.getOrDefault('regParam'))\n",
    "# print('maxIter:',lrmodel.getOrDefault('maxIter'))"
   ]
  },
  {
   "cell_type": "code",
   "execution_count": null,
   "metadata": {},
   "outputs": [],
   "source": [
    "# evaluator=BinaryClassificationEvaluator(rawPredictionCol='rawPrediction',labelCol='target')\n",
    "# paramgrid=ParamGridBuilder().addGrid(lr.regParam,[0.1,0.01,0.2,0.3,0.4,0.5]).addGrid(lr.maxIter,[0,10,30,40,50,75,100]).build()\n",
    "# cv=CrossValidator(estimator=lr,estimatorParamMaps=paramgrid,evaluator=evaluator,numFolds=10)\n",
    "# cvmodel=cv.fit(train)\n",
    "# lrpredict_train=cvmodel.transform(train)\n",
    "# lrpredict_test=cvmodel.transform(test)\n",
    "# bestlrmodel=cvmodel.bestModel\n",
    "# accuracy(lrpredict_test)\n",
    "# print('regParam:',bestlrmodel.getOrDefault('regParam'))\n",
    "# print('maxIter:',bestlrmodel.getOrDefault('maxIter'))"
   ]
  },
  {
   "cell_type": "code",
   "execution_count": null,
   "metadata": {},
   "outputs": [],
   "source": [
    "# dt=DecisionTreeClassifier(labelCol='target',featuresCol='scaledrelieffeatures')\n",
    "# dtmodel=dt.fit(train)\n",
    "# dtpredict_train=dtmodel.transform(train)\n",
    "# dtpredict_test=dtmodel.transform(test)\n",
    "# accuracy(dtpredict_test)\n",
    "# print('maxdepth:',dtmodel.getOrDefault('maxDepth'))\n",
    "# print('maxBins:',dtmodel.getOrDefault('maxBins'))\n",
    "# print('impurity:',dtmodel.getOrDefault('impurity'))"
   ]
  },
  {
   "cell_type": "code",
   "execution_count": null,
   "metadata": {},
   "outputs": [],
   "source": [
    "# evaluator=BinaryClassificationEvaluator(rawPredictionCol='rawPrediction',labelCol='target')\n",
    "# paramgrid=ParamGridBuilder().addGrid(dt.maxDepth,[2,3,4,5]).addGrid(dt.impurity,['entropy','gini']).addGrid(dt.maxBins,[10,15,20,30,35,40]).build()\n",
    "# cv=CrossValidator(estimator=dt,estimatorParamMaps=paramgrid,evaluator=evaluator,numFolds=10)\n",
    "# cvmodel=cv.fit(train)\n",
    "# dtpredict_train=cvmodel.transform(train)\n",
    "# dtpredict_test=cvmodel.transform(test)\n",
    "# bestdtmodel=cvmodel.bestModel\n",
    "# accuracy(dtpredict_test)\n",
    "# print('maxdepth:',bestdtmodel.getOrDefault('maxDepth'))\n",
    "# print('maxBins:',bestdtmodel.getOrDefault('maxBins'))\n",
    "# print('impurity:',bestdtmodel.getOrDefault('impurity'))"
   ]
  },
  {
   "cell_type": "code",
   "execution_count": null,
   "metadata": {},
   "outputs": [],
   "source": [
    "# rf=RandomForestClassifier(labelCol='target',featuresCol='scaledrelieffeatures')\n",
    "# rfmodel=rf.fit(train)\n",
    "# rfpredict_train=rfmodel.transform(train)\n",
    "# rfpredict_test=rfmodel.transform(test)\n",
    "# accuracy(rfpredict_test)\n",
    "# print('maxdepth:',rfmodel.getOrDefault('maxDepth'))\n",
    "# print('maxBins:',rfmodel.getOrDefault('maxBins'))\n",
    "# print('numTrees:',rfmodel.getOrDefault('numTrees'))"
   ]
  },
  {
   "cell_type": "code",
   "execution_count": null,
   "metadata": {},
   "outputs": [],
   "source": [
    "# evaluator=BinaryClassificationEvaluator(rawPredictionCol='rawPrediction',labelCol='target')\n",
    "# paramgrid=ParamGridBuilder().addGrid(rf.maxDepth,[2,3,4,5]).addGrid(rf.maxBins,[10,15,20,30,35,40]).addGrid(rf.numTrees,[20,30,35,40]).addGrid(rf.impurity,['entropy','gini']).build()\n",
    "# cv=CrossValidator(estimator=rf,estimatorParamMaps=paramgrid,evaluator=evaluator,numFolds=10)\n",
    "# cvmodel=cv.fit(train)\n",
    "# rfpredict_train=cvmodel.transform(train)\n",
    "# rfpredict_test=cvmodel.transform(test)\n",
    "# bestrfmodel=cvmodel.bestModel\n",
    "# accuracy(rfpredict_test)\n",
    "# print('Best maxdepth:',bestrfmodel.getOrDefault('maxDepth'))\n",
    "# print('Best maxBins:',bestrfmodel.getOrDefault('maxBins'))\n",
    "# print('best numTrees:',bestrfmodel.getOrDefault('numTrees'))"
   ]
  },
  {
   "cell_type": "code",
   "execution_count": null,
   "metadata": {},
   "outputs": [],
   "source": [
    "# sv=LinearSVC(labelCol='target',featuresCol='scaledrelieffeatures')\n",
    "# svmodel=sv.fit(train)\n",
    "# svpredict_train=svmodel.transform(train)\n",
    "# svpredict_test=svmodel.transform(test)\n",
    "# accuracy(svpredict_test)\n",
    "# print('regParam:',svmodel.getOrDefault('regParam'))\n",
    "# print('maxIter:',svmodel.getOrDefault('maxIter'))"
   ]
  },
  {
   "cell_type": "code",
   "execution_count": null,
   "metadata": {},
   "outputs": [],
   "source": [
    "# evaluator=BinaryClassificationEvaluator(rawPredictionCol='rawPrediction',labelCol='target')\n",
    "# paramgrid=ParamGridBuilder().addGrid(sv.regParam,[0.01,0.02,0.03,0.1,0.2,0.3]).addGrid(sv.maxIter,[10,20,25,30,35,40,45,50]).build()\n",
    "# cv=CrossValidator(estimator=sv,estimatorParamMaps=paramgrid,evaluator=evaluator,numFolds=10)\n",
    "# cvmodel=cv.fit(train)\n",
    "# svpredict_train=cvmodel.transform(train)\n",
    "# svpredict_test=cvmodel.transform(test)\n",
    "# bestsvmodel=cvmodel.bestModel\n",
    "# accuracy(svpredict_test)\n",
    "# print('regParam:',bestsvmodel.getOrDefault('regParam'))\n",
    "# print('maxIter:',bestsvmodel.getOrDefault('maxIter'))"
   ]
  },
  {
   "cell_type": "code",
   "execution_count": null,
   "metadata": {},
   "outputs": [],
   "source": []
  }
 ],
 "metadata": {
  "kernelspec": {
   "display_name": "Python 3",
   "language": "python",
   "name": "python3"
  },
  "language_info": {
   "codemirror_mode": {
    "name": "ipython",
    "version": 3
   },
   "file_extension": ".py",
   "mimetype": "text/x-python",
   "name": "python",
   "nbconvert_exporter": "python",
   "pygments_lexer": "ipython3",
   "version": "3.7.0"
  }
 },
 "nbformat": 4,
 "nbformat_minor": 4
}
