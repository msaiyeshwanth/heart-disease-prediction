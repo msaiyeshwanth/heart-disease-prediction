{
 "cells": [
  {
   "cell_type": "code",
   "execution_count": null,
   "metadata": {},
   "outputs": [
    {
     "name": "stdout",
     "output_type": "stream",
     "text": [
      "<tweepy.streaming.Stream object at 0x0000022F9A2FD470>\n"
     ]
    }
   ],
   "source": [
    "# !pip install kafka-python\n",
    "# !pip install python-twitter\n",
    "# !pip install tweepy\n",
    "# !pip install pykafka\n",
    "import pykafka\n",
    "import json\n",
    "import tweepy\n",
    "from tweepy import OAuthHandler\n",
    "from tweepy import Stream\n",
    "from tweepy.streaming import StreamListener\n",
    "\n",
    "#TWITTER API CONFIGURATIONS\n",
    "consumer_key ='Fas47a2nQuaMB39MT1l4VCjvt'\n",
    "consumer_secret ='uP6BWcSu8GV18BLNYC4D1DZDf8rajuMKAZAKHPFbRAFY1PEWJr'\n",
    "access_token ='1971566503-uJ7siWrpWzlQQQK1zaULroPwT6je09RyzGNg1hP'\n",
    "access_secret = 'EAEfQHsLwU3DxfM45dzzBYTryNJ2ZokcxmsNmcGZ2PCps'\n",
    "\n",
    "#TWITTER API AUTH\n",
    "auth = OAuthHandler(consumer_key, consumer_secret)\n",
    "auth.set_access_token(access_token, access_secret)\n",
    "\n",
    "api = tweepy.API(auth)\n",
    "\n",
    "#Twitter Stream Listener\n",
    "class KafkaPushListener(StreamListener):          \n",
    "\tdef __init__(self):\n",
    "\t\t#localhost:9092 = Default Zookeeper Producer Host and Port Adresses\n",
    "\t\tself.client = pykafka.KafkaClient(\"localhost:9092\")\n",
    "\t\t\n",
    "\t\t#Get Producer that has topic name is Twitter\n",
    "\t\tself.producer = self.client.topics[bytes(\"hrtdis\", \"ascii\")].get_producer()\n",
    "  \n",
    "\tdef on_data(self, data):\n",
    "\t\t#Producer produces data for consumer\n",
    "\t\t#Data comes from Twitter\n",
    "\t\tself.producer.produce(bytes(data, \"ascii\"))\n",
    "\t\treturn True\n",
    "                                                                                                                                           \n",
    "\tdef on_error(self, status):\n",
    "\t\tprint(status)\n",
    "\t\treturn True\n",
    "\n",
    "#Twitter Stream Config\n",
    "twitter_stream = Stream(auth, KafkaPushListener())\n",
    "print(twitter_stream)\n",
    "#Produce Data that has hrtdis hashtag (Tweets)\n",
    "twitter_stream.filter(track=['* hrtdis'])"
   ]
  },
  {
   "cell_type": "code",
   "execution_count": null,
   "metadata": {},
   "outputs": [],
   "source": []
  }
 ],
 "metadata": {
  "kernelspec": {
   "display_name": "Python 3",
   "language": "python",
   "name": "python3"
  },
  "language_info": {
   "codemirror_mode": {
    "name": "ipython",
    "version": 3
   },
   "file_extension": ".py",
   "mimetype": "text/x-python",
   "name": "python",
   "nbconvert_exporter": "python",
   "pygments_lexer": "ipython3",
   "version": "3.7.0"
  }
 },
 "nbformat": 4,
 "nbformat_minor": 4
}
